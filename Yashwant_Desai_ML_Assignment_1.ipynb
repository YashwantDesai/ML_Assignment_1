{
 "cells": [
  {
   "cell_type": "markdown",
   "id": "0c27a818",
   "metadata": {},
   "source": [
    "# Yashwant Desai –  ML_Assignment_1"
   ]
  },
  {
   "cell_type": "markdown",
   "id": "64b3f142",
   "metadata": {},
   "source": [
    "# 1. What does one mean by the term \"machine learning\"?"
   ]
  },
  {
   "cell_type": "markdown",
   "id": "42ddc2c6",
   "metadata": {},
   "source": [
    "Machine learning is a subset of artificial intelligence that involves the development of algorithms and statistical models that enable computer systems to improve their performance on a specific task through learning from data without being explicitly programmed."
   ]
  },
  {
   "cell_type": "markdown",
   "id": "4aec7584",
   "metadata": {},
   "source": [
    "# 2.Can you think of 4 distinct types of issues where it shines?"
   ]
  },
  {
   "cell_type": "markdown",
   "id": "2b51cad1",
   "metadata": {},
   "source": [
    "Machine learning shines in various domains, including:\n",
    "\n",
    "Image Classification: Recognizing objects or patterns within images.\n",
    "\n",
    "Natural Language Processing: Understanding and generating human language.\n",
    "\n",
    "Recommendation Systems: Recommending products, content, or services to users.\n",
    "\n",
    "Anomaly Detection: Identifying rare or unexpected events in data, such as fraud detection."
   ]
  },
  {
   "cell_type": "markdown",
   "id": "6454b3f2",
   "metadata": {},
   "source": [
    "# 3.What is a labeled training set, and how does it work?"
   ]
  },
  {
   "cell_type": "markdown",
   "id": "f54d0ee3",
   "metadata": {},
   "source": [
    "A labeled training set is a dataset in which each example (data point) is paired with the correct output or target label. Machine learning algorithms learn from these labels by analyzing the input features and adjusting their internal parameters to make accurate predictions, minimizing the difference between their predictions and the actual labels during training."
   ]
  },
  {
   "cell_type": "markdown",
   "id": "5110db1d",
   "metadata": {},
   "source": [
    "# 4.What are the two most important tasks that are supervised?"
   ]
  },
  {
   "cell_type": "markdown",
   "id": "dd05a826",
   "metadata": {},
   "source": [
    "Below are the two most important supervised learning tasks.\n",
    "\n",
    "Classification: Assigning data points to predefined categories or classes, such as spam detection or image classification.\n",
    "\n",
    "Regression: Predicting a continuous numerical value, like predicting house prices or stock prices."
   ]
  },
  {
   "cell_type": "markdown",
   "id": "3c1653bd",
   "metadata": {},
   "source": [
    "# 5.Can you think of four examples of unsupervised tasks?"
   ]
  },
  {
   "cell_type": "markdown",
   "id": "5749c2a4",
   "metadata": {},
   "source": [
    "Belw are unsupervised learning tasks.\n",
    "\n",
    "Clustering: Grouping similar data points together without predefined categories.\n",
    "\n",
    "Dimensionality Reduction: Reducing the number of features while preserving data structure.\n",
    "\n",
    "Anomaly Detection: Identifying unusual patterns or outliers in data.\n",
    "\n",
    "Topic Modeling: Discovering latent topics within a collection of documents."
   ]
  },
  {
   "cell_type": "markdown",
   "id": "880ab642",
   "metadata": {},
   "source": [
    "# 6.State the machine learning model that would be best to make a robot walk through various unfamiliar terrains?"
   ]
  },
  {
   "cell_type": "markdown",
   "id": "96f2632b",
   "metadata": {},
   "source": [
    "To make a robot walk through unfamiliar terrains, a Reinforcement Learning model, such as Deep Q-Networks (DQN) or Proximal Policy Optimization (PPO), would be suitable. These models learn through trial and error, optimizing actions to maximize a reward signal."
   ]
  },
  {
   "cell_type": "markdown",
   "id": "4b9b73eb",
   "metadata": {},
   "source": [
    "# 7.Which algorithm will you use to divide your customers into different groups?"
   ]
  },
  {
   "cell_type": "markdown",
   "id": "36f0462c",
   "metadata": {},
   "source": [
    "To divide customers into different groups, you can use clustering algorithms like K-Means or hierarchical clustering, which group customers based on their similarity in terms of certain features, helping with customer segmentation."
   ]
  },
  {
   "cell_type": "markdown",
   "id": "aa08408f",
   "metadata": {},
   "source": [
    "# 8.Will you consider the problem of spam detection to be a supervised or unsupervised learning problem?"
   ]
  },
  {
   "cell_type": "markdown",
   "id": "2694a4d9",
   "metadata": {},
   "source": [
    "Spam detection is typically considered a supervised learning problem because it involves classifying emails or messages into predefined categories (spam or not spam) based on labeled training data."
   ]
  },
  {
   "cell_type": "markdown",
   "id": "40aec6b0",
   "metadata": {},
   "source": [
    "# 9.What is the concept of an online learning system?"
   ]
  },
  {
   "cell_type": "markdown",
   "id": "c615a89c",
   "metadata": {},
   "source": [
    "An online learning system is a machine learning approach where the model is updated continuously as new data becomes available. It adapts to changing data and can make real-time predictions without retraining the entire model from scratch."
   ]
  },
  {
   "cell_type": "markdown",
   "id": "641cea03",
   "metadata": {},
   "source": [
    "# 10.What is out-of-core learning, and how does it differ from core learning?"
   ]
  },
  {
   "cell_type": "markdown",
   "id": "b009d99e",
   "metadata": {},
   "source": [
    "Out-of-core learning is a technique used when dealing with datasets that are too large to fit into memory (RAM). It involves processing data in smaller chunks, typically from storage (disk), as opposed to core learning, which assumes that the entire dataset can fit in memory."
   ]
  },
  {
   "cell_type": "markdown",
   "id": "b30b582a",
   "metadata": {},
   "source": [
    "# 11.What kind of learning algorithm makes predictions using a similarity measure?"
   ]
  },
  {
   "cell_type": "markdown",
   "id": "74048b80",
   "metadata": {},
   "source": [
    "Instance-based learning algorithms, such as k-Nearest Neighbors (k-NN), make predictions based on a similarity measure by identifying the most similar training examples to the input data point and using their labels for prediction."
   ]
  },
  {
   "cell_type": "markdown",
   "id": "71542f7c",
   "metadata": {},
   "source": [
    "# 12.What's the difference between a model parameter and a hyperparameter in a learning algorithm?"
   ]
  },
  {
   "cell_type": "markdown",
   "id": "92a2109a",
   "metadata": {},
   "source": [
    "Model parameters are internal variables that the machine learning algorithm learns from the training data (e.g., weights in a neural network). Hyperparameters, on the other hand, are external settings that govern the behavior of the algorithm (e.g., learning rate, number of hidden layers, or regularization strength)."
   ]
  },
  {
   "cell_type": "markdown",
   "id": "29b45491",
   "metadata": {},
   "source": [
    "# 13.What are the criteria that model-based learning algorithms look for? What is the most popular method they use to achieve success? What method do they use to make predictions?"
   ]
  },
  {
   "cell_type": "markdown",
   "id": "a4c4742b",
   "metadata": {},
   "source": [
    "Model-based learning algorithms aim to minimize a cost or loss function to find the best model parameters. The most popular method they use is gradient descent to optimize the cost function. Once trained, they make predictions by applying the learned model to new data."
   ]
  },
  {
   "cell_type": "markdown",
   "id": "5cc1ca9f",
   "metadata": {},
   "source": [
    "# 14.Can you name four of the most important Machine Learning challenges?"
   ]
  },
  {
   "cell_type": "markdown",
   "id": "8d8f14bc",
   "metadata": {},
   "source": [
    "Below are four important machine learning challenges.\n",
    "\n",
    "Overfitting and Underfitting: Balancing model complexity to avoid poor generalization.\n",
    "\n",
    "Data Quality: Dealing with noisy or incomplete data.\n",
    "\n",
    "Bias and Fairness: Ensuring fairness and mitigating bias in models.\n",
    "\n",
    "Scalability: Handling large datasets and computationally expensive models."
   ]
  },
  {
   "cell_type": "markdown",
   "id": "faca53c8",
   "metadata": {},
   "source": [
    "# 15.What happens if the model performs well on the training data but fails to generalize the results to new situations? Can you think of three different options?"
   ]
  },
  {
   "cell_type": "markdown",
   "id": "768b99de",
   "metadata": {},
   "source": [
    "If a model overfits the training data, it may fail to generalize. Three options to address this are:\n",
    "\n",
    "Regularization: Introduce regularization techniques to penalize complex models.\n",
    "\n",
    "Cross-Validation: Use techniques like k-fold cross-validation to evaluate model performance more robustly.\n",
    "\n",
    "Feature Engineering: Improve feature selection and engineering to make the model more representative of the underlying data."
   ]
  },
  {
   "cell_type": "markdown",
   "id": "5995473c",
   "metadata": {},
   "source": [
    "# 16.What exactly is a test set, and why would you need one?"
   ]
  },
  {
   "cell_type": "markdown",
   "id": "7245f1d8",
   "metadata": {},
   "source": [
    "A test set is a separate dataset that is not used during model training but is reserved for evaluating the model's performance. It helps assess how well the model generalizes to new, unseen data and provides an estimate of its real-world performance."
   ]
  },
  {
   "cell_type": "markdown",
   "id": "142f1de1",
   "metadata": {},
   "source": [
    "# 17.What is a validation set's purpose?"
   ]
  },
  {
   "cell_type": "markdown",
   "id": "0b82e23c",
   "metadata": {},
   "source": [
    "A validation set is used to fine-tune and optimize model hyperparameters. It helps in selecting the best model and hyperparameters during the training process without contaminating the test set."
   ]
  },
  {
   "cell_type": "markdown",
   "id": "234c2b24",
   "metadata": {},
   "source": [
    "# 18.What precisely is the train-dev kit, when will you need it, how do you put it to use?"
   ]
  },
  {
   "cell_type": "markdown",
   "id": "9f1d3607",
   "metadata": {},
   "source": [
    "The train-dev kit, often called a development set, is a dataset used to fine-tune a model during the development process. It's not part of the training or validation sets. It's used to identify issues like data leakage, debugging, or improving model performance during development."
   ]
  },
  {
   "cell_type": "markdown",
   "id": "002b2598",
   "metadata": {},
   "source": [
    "# 19.What could go wrong if you use the test set to tune hyperparameters?"
   ]
  },
  {
   "cell_type": "markdown",
   "id": "5783cba8",
   "metadata": {},
   "source": [
    "If you use the test set to tune hyperparameters, you risk overfitting the model to the test set, which may lead to poor generalization when deploying the model to new, unseen data. The test set should remain untouched during hyperparameter tuning to provide an unbiased estimate of model performance."
   ]
  },
  {
   "cell_type": "markdown",
   "id": "dda7d5b1",
   "metadata": {},
   "source": [
    "# Done all 19 questions "
   ]
  },
  {
   "cell_type": "markdown",
   "id": "a04469f9",
   "metadata": {},
   "source": [
    "# Regards,Yashwant"
   ]
  }
 ],
 "metadata": {
  "kernelspec": {
   "display_name": "Python 3 (ipykernel)",
   "language": "python",
   "name": "python3"
  },
  "language_info": {
   "codemirror_mode": {
    "name": "ipython",
    "version": 3
   },
   "file_extension": ".py",
   "mimetype": "text/x-python",
   "name": "python",
   "nbconvert_exporter": "python",
   "pygments_lexer": "ipython3",
   "version": "3.9.13"
  }
 },
 "nbformat": 4,
 "nbformat_minor": 5
}
